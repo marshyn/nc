{
  "nbformat": 4,
  "nbformat_minor": 0,
  "metadata": {
    "colab": {
      "name": "Week 12 Assignment - Fun with Spreadsheet Data",
      "provenance": [],
      "include_colab_link": true
    },
    "kernelspec": {
      "name": "python3",
      "display_name": "Python 3"
    }
  },
  "cells": [
    {
      "cell_type": "markdown",
      "metadata": {
        "id": "view-in-github",
        "colab_type": "text"
      },
      "source": [
        "<a href=\"https://colab.research.google.com/github/marshyn/nc/blob/master/Week_12_Assignment_Fun_with_Spreadsheet_Data.ipynb\" target=\"_parent\"><img src=\"https://colab.research.google.com/assets/colab-badge.svg\" alt=\"Open In Colab\"/></a>"
      ]
    },
    {
      "cell_type": "markdown",
      "metadata": {
        "id": "BsOHbOwEl2_2"
      },
      "source": [
        "**FUN WITH SPREADSHEET DATA**\n",
        "\n",
        "In the worksheet this week, we had a bunch of examples of working with spreadsheet data in an external file. In the assignment, we will build on the examples in the Worksheet.\n",
        "\n",
        "You can find the worksheet here: https://github.com/mlepinski/Python-Worksheets/blob/master/Week_12_Worksheet.ipynb\n",
        "\n",
        "For these problems you should use the state data file in my GitHub repository. https://raw.githubusercontent.com/mlepinski/Python-Worksheets/master/states.csv"
      ]
    },
    {
      "cell_type": "code",
      "metadata": {
        "id": "Ukfid6sElx_n"
      },
      "source": [
        "file_name = \"https://raw.githubusercontent.com/mlepinski/Python-Worksheets/master/states.csv\""
      ],
      "execution_count": null,
      "outputs": []
    },
    {
      "cell_type": "markdown",
      "metadata": {
        "id": "r4g_dchAm6XT"
      },
      "source": [
        "1) The median is the middle value of a set of numbers. (https://en.wikipedia.org/wiki/Median) \n",
        "\n",
        "Write Python code to find the Median population of a state. Since the state data includes the District of Columbia, the median would be the state with the  26th highest population.\n",
        "\n",
        "2) Write Python code to figure out how many state names start with the letter \"M\". \n",
        "\n",
        "Recall that if you have a string, you can get the first letter of the string by using **[0]**. For example, if **name** is a string, then **name[0]** is the first letter of the string\n",
        "\n",
        "3) Population density is the number of people divided by the amount of area. Write Python code that adds a column to the state data that lists the population density of the state. \n",
        "\n",
        "Note: You can print out the **head()** of the data table to make sure this worked.\n",
        "\n",
        "4) Write Python code to figure out which state has the largest population density? the least population density? the median population density?"
      ]
    },
    {
      "cell_type": "code",
      "metadata": {
        "id": "zAYqtJtrbcoq",
        "outputId": "70f234e5-8164-48c7-e07a-aa9013a85866",
        "colab": {
          "base_uri": "https://localhost:8080/"
        }
      },
      "source": [
        "# question 1\n",
        "# The median is the middle value of a set of numbers.\n",
        "\n",
        "# Write Python code to find the Median population of a state. Since the state\n",
        "# data includes the District of Columbia, the median would be the state\n",
        "# with the  26th highest population.\n",
        "\n",
        "import pandas\n",
        "\n",
        "file_name = \"https://raw.githubusercontent.com/mlepinski/Python-Worksheets/master/states.csv\"\n",
        "state_data = pandas.read_csv(file_name)\n",
        "\n",
        "median_pop = state_data[\"Pop\"].median()\n",
        "\n",
        "print(median_pop)"
      ],
      "execution_count": 1,
      "outputs": [
        {
          "output_type": "stream",
          "text": [
            "3294394.0\n"
          ],
          "name": "stdout"
        }
      ]
    },
    {
      "cell_type": "code",
      "metadata": {
        "id": "dOCbp6zCP0o_"
      },
      "source": [
        "# question 2\n",
        "# Write Python code to figure out how many state names start\n",
        "# with the letter \"M\".\n",
        "\n",
        "# Recall that if you have a string, you can get the first letter\n",
        "# of the string by using [0]. For example, if name is a string,\n",
        "# then name[0] is the first letter of the string\n",
        "\n",
        "import pandas\n",
        "\n",
        "file_name = \"https://raw.githubusercontent.com/mlepinski/Python-Worksheets/master/states.csv\"\n",
        "state_data = pandas.read_csv(file_name)\n",
        "\n",
        "state_names = state_data[\"Name\"]\n",
        "\n",
        "#print(state_names)\n",
        "\n",
        "states_list = []\n",
        "\n",
        "for x in state_names:\n",
        "  print(state_names)\n",
        "\n",
        "#if states_list.index[0] == \"M\":\n",
        "#  print(states_list)\n",
        "\n",
        "#m_count = 0\n",
        "\n",
        "#for x in names:\n",
        "#  for firstletter.lower[0] in names:\n",
        "#    print(\"a\")\n",
        " # if firstletter == \"m\":\n",
        "  #  m_count = m_count + 1\n",
        "\n",
        "#print(m_count)"
      ],
      "execution_count": null,
      "outputs": []
    },
    {
      "cell_type": "code",
      "metadata": {
        "id": "hFq0whLKVUoh",
        "outputId": "7a45699a-9ccc-4618-809c-5f2003c490c8",
        "colab": {
          "base_uri": "https://localhost:8080/",
          "height": 204
        }
      },
      "source": [
        "# question 3\n",
        "# Population density is the number of people divided by\n",
        "# the amount of area. Write Python code that adds a column to the\n",
        "# state data that lists the population density of the state.\n",
        "\n",
        "# Note: You can print out the head() of the data table to\n",
        "# make sure this worked.\n",
        "\n",
        "import pandas\n",
        "\n",
        "file_name = \"https://raw.githubusercontent.com/mlepinski/Python-Worksheets/master/states.csv\"\n",
        "state_data = pandas.read_csv(file_name)\n",
        "\n",
        "state_data[\"Density\"] = state_data[\"Pop\"] / state_data[\"Area\"]\n",
        "\n",
        "state_data.head()\n",
        "\n"
      ],
      "execution_count": 30,
      "outputs": [
        {
          "output_type": "execute_result",
          "data": {
            "text/html": [
              "<div>\n",
              "<style scoped>\n",
              "    .dataframe tbody tr th:only-of-type {\n",
              "        vertical-align: middle;\n",
              "    }\n",
              "\n",
              "    .dataframe tbody tr th {\n",
              "        vertical-align: top;\n",
              "    }\n",
              "\n",
              "    .dataframe thead th {\n",
              "        text-align: right;\n",
              "    }\n",
              "</style>\n",
              "<table border=\"1\" class=\"dataframe\">\n",
              "  <thead>\n",
              "    <tr style=\"text-align: right;\">\n",
              "      <th></th>\n",
              "      <th>Name</th>\n",
              "      <th>State</th>\n",
              "      <th>Area</th>\n",
              "      <th>Pop</th>\n",
              "      <th>Density</th>\n",
              "    </tr>\n",
              "  </thead>\n",
              "  <tbody>\n",
              "    <tr>\n",
              "      <th>0</th>\n",
              "      <td>Alabama</td>\n",
              "      <td>AL</td>\n",
              "      <td>52423</td>\n",
              "      <td>4040587</td>\n",
              "      <td>77.076608</td>\n",
              "    </tr>\n",
              "    <tr>\n",
              "      <th>1</th>\n",
              "      <td>Alaska</td>\n",
              "      <td>AK</td>\n",
              "      <td>656424</td>\n",
              "      <td>550043</td>\n",
              "      <td>0.837939</td>\n",
              "    </tr>\n",
              "    <tr>\n",
              "      <th>2</th>\n",
              "      <td>Arizona</td>\n",
              "      <td>AZ</td>\n",
              "      <td>114006</td>\n",
              "      <td>3665228</td>\n",
              "      <td>32.149431</td>\n",
              "    </tr>\n",
              "    <tr>\n",
              "      <th>3</th>\n",
              "      <td>Arkansas</td>\n",
              "      <td>AR</td>\n",
              "      <td>53182</td>\n",
              "      <td>2350725</td>\n",
              "      <td>44.201516</td>\n",
              "    </tr>\n",
              "    <tr>\n",
              "      <th>4</th>\n",
              "      <td>California</td>\n",
              "      <td>CA</td>\n",
              "      <td>163707</td>\n",
              "      <td>29769021</td>\n",
              "      <td>181.843299</td>\n",
              "    </tr>\n",
              "  </tbody>\n",
              "</table>\n",
              "</div>"
            ],
            "text/plain": [
              "         Name State    Area       Pop     Density\n",
              "0     Alabama    AL   52423   4040587   77.076608\n",
              "1      Alaska    AK  656424    550043    0.837939\n",
              "2     Arizona    AZ  114006   3665228   32.149431\n",
              "3    Arkansas    AR   53182   2350725   44.201516\n",
              "4  California    CA  163707  29769021  181.843299"
            ]
          },
          "metadata": {
            "tags": []
          },
          "execution_count": 30
        }
      ]
    },
    {
      "cell_type": "code",
      "metadata": {
        "id": "cUKqrANNV-C_",
        "outputId": "80dead76-6d2a-4434-8911-b9aeff1a7f83",
        "colab": {
          "base_uri": "https://localhost:8080/"
        }
      },
      "source": [
        "# question 4\n",
        "# Write Python code to figure out which state has the\n",
        "# largest population density? the least population density?\n",
        "# the median population density?\n",
        "\n",
        "import pandas\n",
        "\n",
        "file_name = \"https://raw.githubusercontent.com/mlepinski/Python-Worksheets/master/states.csv\"\n",
        "state_data = pandas.read_csv(file_name)\n",
        "\n",
        "state_data[\"Density\"] = state_data[\"Pop\"] / state_data[\"Area\"]\n",
        "\n",
        "# largest population density\n",
        "max_density = state_data[\"Density\"].max()\n",
        "max_density_row = state_data[ state_data[\"Density\"]== max_density]\n",
        "print(max_density_row)\n",
        "\n",
        "#least population density\n",
        "min_density = state_data[\"Density\"].min()\n",
        "min_density_row = state_data[ state_data[\"Density\"]== min_density]\n",
        "print(min_density_row)\n",
        "\n",
        "#median population density\n",
        "median_density = state_data[\"Density\"].median()\n",
        "median_density_row = state_data[ state_data[\"Density\"]== median_density]\n",
        "print(median_density_row)\n"
      ],
      "execution_count": 44,
      "outputs": [
        {
          "output_type": "stream",
          "text": [
            "                   Name State  Area     Pop  Density\n",
            "8  District of Columbia    DC    68  606900   8925.0\n",
            "     Name State    Area     Pop   Density\n",
            "1  Alaska    AK  656424  550043  0.837939\n",
            "         Name State   Area      Pop    Density\n",
            "49  Wisconsin    WI  65499  4891769  74.684636\n"
          ],
          "name": "stdout"
        }
      ]
    }
  ]
}