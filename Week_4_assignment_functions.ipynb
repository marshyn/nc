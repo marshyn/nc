{
  "nbformat": 4,
  "nbformat_minor": 0,
  "metadata": {
    "colab": {
      "name": "Week 4 assignment - functions",
      "provenance": [],
      "include_colab_link": true
    },
    "kernelspec": {
      "name": "python3",
      "display_name": "Python 3"
    }
  },
  "cells": [
    {
      "cell_type": "markdown",
      "metadata": {
        "id": "view-in-github",
        "colab_type": "text"
      },
      "source": [
        "<a href=\"https://colab.research.google.com/github/marshyn/nc/blob/master/Week_4_assignment_functions.ipynb\" target=\"_parent\"><img src=\"https://colab.research.google.com/assets/colab-badge.svg\" alt=\"Open In Colab\"/></a>"
      ]
    },
    {
      "cell_type": "markdown",
      "metadata": {
        "id": "ps76LskfTCG-",
        "colab_type": "text"
      },
      "source": [
        "# WEEK 4 ASSIGNMENT : Functions\n",
        "\n",
        "----------------\n",
        "\n",
        "**0)** Define (def) a Python Function that takes no input and prints \"Hello World\"\n",
        "\n",
        "**1)** Define a Python Function that prints a message of your choice five times in a row. Please do this by putting a loop inside your function. \n",
        "\n",
        "**2)** Modify your function from the previous question so that it takes a number as input which tells the function how many times to print the message. That is, you should make your function more flexible by replacing the fixed number 5 with an input that determines how many times the message is printed. \n",
        "\n",
        "**3)** Define a function called square that takes in a number and returns the square of that number. Recall that the square of a number is just the number times itself. \n",
        "\n",
        "If you have done number (3) correctly, the following Python code should print 9 and 25.\n",
        "\n"
      ]
    },
    {
      "cell_type": "code",
      "metadata": {
        "id": "YFTIGIjChNJT",
        "colab_type": "code",
        "colab": {
          "base_uri": "https://localhost:8080/",
          "height": 34
        },
        "outputId": "6556d6c4-00ae-48fe-e4cf-f9182384cb7d"
      },
      "source": [
        "# question 0\n",
        "# Define (def) a Python Function that takes no input and prints \"Hello World\"\n",
        "\n",
        "def greetings():\n",
        "  counter = 1\n",
        "  while counter < 2:\n",
        "    print(\"Hello World\")\n",
        "    counter = counter + 1\n",
        "\n",
        "greetings()"
      ],
      "execution_count": null,
      "outputs": [
        {
          "output_type": "stream",
          "text": [
            "Hello World\n"
          ],
          "name": "stdout"
        }
      ]
    },
    {
      "cell_type": "code",
      "metadata": {
        "id": "4dPHcdruhysW",
        "colab_type": "code",
        "colab": {
          "base_uri": "https://localhost:8080/",
          "height": 102
        },
        "outputId": "e30d39ea-9ff2-4c9b-ed61-de2de21700a4"
      },
      "source": [
        "# question 1\n",
        "# Define a Python Function that prints a message\n",
        "# of your choice five times in a row.\n",
        "# Please do this by putting a loop inside your function.\n",
        "\n",
        "def message():\n",
        "  counter = 1\n",
        "  while counter <= 5:\n",
        "    print(\"Hey! This is a message. It will print 5 times.\")\n",
        "    counter = counter + 1\n",
        "\n",
        "message()"
      ],
      "execution_count": null,
      "outputs": [
        {
          "output_type": "stream",
          "text": [
            "Hey! This is a message. It will print 5 times.\n",
            "Hey! This is a message. It will print 5 times.\n",
            "Hey! This is a message. It will print 5 times.\n",
            "Hey! This is a message. It will print 5 times.\n",
            "Hey! This is a message. It will print 5 times.\n"
          ],
          "name": "stdout"
        }
      ]
    },
    {
      "cell_type": "code",
      "metadata": {
        "id": "O4w-5W4Iigrb",
        "colab_type": "code",
        "colab": {
          "base_uri": "https://localhost:8080/",
          "height": 85
        },
        "outputId": "9e0f5544-3a72-41fe-f1ea-0ac3e63aa876"
      },
      "source": [
        "# question 2\n",
        "# Modify your function from the previous question so that\n",
        "# it takes a number as input which tells the function\n",
        "# how many times to print the message.\n",
        "# That is, you should make your function more flexible by replacing\n",
        "# the fixed number 5 with an input that determines how many times the message is printed.\n",
        "\n",
        "def message():\n",
        "  counter = int(input(\"How many times would you like your message to print? \"))\n",
        "  while counter <= counter:\n",
        "        print(\"Hey! This is a message. It will print\", counter, \"times.\")\n",
        "        counter = counter - 1\n",
        "        if counter == 0:\n",
        "          break\n",
        "\n",
        "message()"
      ],
      "execution_count": null,
      "outputs": [
        {
          "output_type": "stream",
          "text": [
            "How many times would you like your message to print? 3\n",
            "Hey! This is a message. It will print 3 times.\n",
            "Hey! This is a message. It will print 2 times.\n",
            "Hey! This is a message. It will print 1 times.\n"
          ],
          "name": "stdout"
        }
      ]
    },
    {
      "cell_type": "code",
      "metadata": {
        "id": "6EubWTY3-Pt4",
        "colab_type": "code",
        "colab": {}
      },
      "source": [
        "# question 3\n",
        "# Define a function called square that takes in a number\n",
        "# and returns the square of that number.\n",
        "\n",
        "# Recall that the square of a number is\n",
        "# just the number times itself. (aka exponent of 2; squared)\n",
        "\n",
        "def square(side):\n",
        "  side == side ** 2\n",
        "\n"
      ],
      "execution_count": 4,
      "outputs": []
    },
    {
      "cell_type": "code",
      "metadata": {
        "id": "XgOcosRDTdLq",
        "colab_type": "code",
        "colab": {
          "base_uri": "https://localhost:8080/",
          "height": 68
        },
        "outputId": "f36de4e6-4c2a-434f-874b-19c09f96b2c5"
      },
      "source": [
        "# If you have done number (3) correctly, the following Python code should print 9 and 25.\n",
        "\n",
        "# function\n",
        "def square(side):\n",
        "  side == side ** 2\n",
        "  print(side)\n",
        "\n",
        "# given code part 1 - using the function\n",
        "X = square(3)\n",
        "Y = square(5)\n",
        "\n",
        "# given code part 2\n",
        "print(\"The answers are\", X, \"and\", Y)\n",
        "\n"
      ],
      "execution_count": 10,
      "outputs": [
        {
          "output_type": "stream",
          "text": [
            "3\n",
            "5\n",
            "The answers are None and None\n"
          ],
          "name": "stdout"
        }
      ]
    },
    {
      "cell_type": "code",
      "metadata": {
        "id": "59ysyo3K_FfQ",
        "colab_type": "code",
        "colab": {}
      },
      "source": [
        "# question 4\n",
        "# Define a function called bigger10 that\n",
        "# takes in a number as input and returns\n",
        "# whichever is bigger, the number or 10.\n",
        "# To do this problem you will need to\n",
        "# put an if statement inside your function.\n",
        "\n",
        "# what is expected: \n",
        "# bigger10(8) returns 10 ... since 10 is the larger of 10 and 8.\n",
        "# bigger10(2) returns 10 ... since 10 is the larger of 10 and 2.\n",
        "# bigger10(15) returns 15 ... since 15 is the larger of 10 and 15.\n",
        "# bigger10(20) returns 20 ... since 20 is the larger of 10 and 20.\n",
        "\n",
        "def bigger10(x):\n",
        "  x = int(input(\"Please give me a number. \"))\n",
        "  if x > 10:\n",
        "    print(x, \"is bigger than 10. \")\n",
        "  \n",
        "  elif x == 10:\n",
        "    print(\"The number you gave was 10, so it is not larger or smaller than 10.\")\n",
        "  \n",
        "  else:\n",
        "    print(\"10 is bigger than\", x)\n",
        "\n",
        "bigger10(x)"
      ],
      "execution_count": null,
      "outputs": []
    },
    {
      "cell_type": "code",
      "metadata": {
        "id": "DKeRvJsu_F5Q",
        "colab_type": "code",
        "colab": {
          "base_uri": "https://localhost:8080/",
          "height": 232
        },
        "outputId": "6b545bcb-2f64-4d91-8493-1b83778faa37"
      },
      "source": [
        "# question 5\n",
        "# You can make a function take two inputs by putting two inputs\n",
        "# inside the parentheses and separating them with a comma. \n",
        "\n",
        "# Define a function called bigger that takes in two numbers as input\n",
        "# and returns the bigger of the two numbers\n",
        "\n",
        "# bigger(10, 8) returns 10 .... since 10 is the larger of 10 and 8\n",
        "# bigger(12, 5) returns 12 ... since 12 is the larger of 12 and 5\n",
        "# bigger(3, 5) returns 5 ... since 5 is the larger of 3 and 5\n",
        "# bigger(12, 20) returns 20 ... since 20 is the larger of 12 and 20\n",
        "\n",
        "x = int(input(\"Please give me a number. \"))\n",
        "y = int(input(\"Please give me another number. \"))\n",
        "\n",
        "def bigger(x,y):\n",
        "  if x > y:\n",
        "    bigger_value = x\n",
        "    smaller_value = y\n",
        "    return  bigger_value\n",
        "  else:\n",
        "    bigger_value = y\n",
        "    smaller_value = x\n",
        "    return bigger_value\n",
        "\n",
        "bigger(x,y)\n",
        "print(bigger_value, \"is bigger than\", smaller_value)"
      ],
      "execution_count": 9,
      "outputs": [
        {
          "output_type": "stream",
          "text": [
            "Please give me a number. 3\n",
            "Please give me another number. 4\n"
          ],
          "name": "stdout"
        },
        {
          "output_type": "error",
          "ename": "NameError",
          "evalue": "ignored",
          "traceback": [
            "\u001b[0;31m---------------------------------------------------------------------------\u001b[0m",
            "\u001b[0;31mNameError\u001b[0m                                 Traceback (most recent call last)",
            "\u001b[0;32m<ipython-input-9-4ad6fa7b9b58>\u001b[0m in \u001b[0;36m<module>\u001b[0;34m()\u001b[0m\n\u001b[1;32m     25\u001b[0m \u001b[0;34m\u001b[0m\u001b[0m\n\u001b[1;32m     26\u001b[0m \u001b[0mbigger\u001b[0m\u001b[0;34m(\u001b[0m\u001b[0mx\u001b[0m\u001b[0;34m,\u001b[0m\u001b[0my\u001b[0m\u001b[0;34m)\u001b[0m\u001b[0;34m\u001b[0m\u001b[0;34m\u001b[0m\u001b[0m\n\u001b[0;32m---> 27\u001b[0;31m \u001b[0mprint\u001b[0m\u001b[0;34m(\u001b[0m\u001b[0mbigger_value\u001b[0m\u001b[0;34m,\u001b[0m \u001b[0;34m\"is bigger than\"\u001b[0m\u001b[0;34m,\u001b[0m \u001b[0msmaller_value\u001b[0m\u001b[0;34m)\u001b[0m\u001b[0;34m\u001b[0m\u001b[0;34m\u001b[0m\u001b[0m\n\u001b[0m",
            "\u001b[0;31mNameError\u001b[0m: name 'bigger_value' is not defined"
          ]
        }
      ]
    },
    {
      "cell_type": "code",
      "metadata": {
        "id": "WHuqGEM1_FwC",
        "colab_type": "code",
        "colab": {}
      },
      "source": [
        "# question 6\n",
        "# Write a short program that uses the function bigger which you just defined.\n",
        "# Your program should ask the user to enter their age,\n",
        "# and then ask the user to enter their friend's age.\n",
        "# Finally, the program should use the bigger function and then print out the message:\n",
        "# \"The older of the two people is **** years old\"\n",
        "# (Where the **** should be replaced by the age of the older person)\n",
        "\n",
        "\n",
        "\n",
        "x = int(input(\"Please enter your age. \"))\n",
        "y = int(input(\"Please enter your friend's age. \"))\n",
        "bigger(x,y)\n",
        "\n"
      ],
      "execution_count": null,
      "outputs": []
    },
    {
      "cell_type": "markdown",
      "metadata": {
        "id": "ELH0N3BwT2vN",
        "colab_type": "text"
      },
      "source": [
        "-------\n",
        "\n",
        "**Problems 0 through 6 are the required problems** for this week, but if you are able to do Problem 7 it will help you next week\n",
        "\n",
        "**7)**  In the previous assignment, you created a guessing game. If you didn't get it working perfectly, that is fine, now is a great time to revisit it and get it working. \n",
        "\n",
        "The guessing game starts with a number and then repeatedly asks the user to guess the number. After each guess the game should tell the user whether their guess was \"too high\" or \"too low\". \n",
        "\n",
        "For this assignment, I want you to put your guessing game into a function called play_the_game. The function should take one input which is the target number that the player is trying to guess. The function should return the number of tries it takes the player to guess the number. \n",
        "\n",
        "By putting this in a function, I could write this in my main program:\n"
      ]
    },
    {
      "cell_type": "code",
      "metadata": {
        "id": "IJ8cuY5uT3Qu",
        "colab_type": "code",
        "colab": {}
      },
      "source": [
        "score = play_the_game(51)\n",
        "print(\"It took you\", score, \"tries to guess the number)"
      ],
      "execution_count": null,
      "outputs": []
    },
    {
      "cell_type": "markdown",
      "metadata": {
        "id": "0XCfjB1oUGxn",
        "colab_type": "text"
      },
      "source": [
        "Also, without changing the function at all, I could play the guessing game with a random target number"
      ]
    },
    {
      "cell_type": "code",
      "metadata": {
        "id": "jPl7D-DoUJLK",
        "colab_type": "code",
        "colab": {}
      },
      "source": [
        "import random\n",
        "target_number = random.randint(0,100)\n",
        "score = play_the_game(target_number)\n",
        "print(\"It took you\", score, \"tries to guess the number)"
      ],
      "execution_count": null,
      "outputs": []
    }
  ]
}