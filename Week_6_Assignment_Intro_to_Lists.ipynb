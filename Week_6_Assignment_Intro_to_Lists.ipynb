{
  "nbformat": 4,
  "nbformat_minor": 0,
  "metadata": {
    "colab": {
      "name": "Week 6 Assignment - Intro to Lists",
      "provenance": [],
      "include_colab_link": true
    },
    "kernelspec": {
      "name": "python3",
      "display_name": "Python 3"
    }
  },
  "cells": [
    {
      "cell_type": "markdown",
      "metadata": {
        "id": "view-in-github",
        "colab_type": "text"
      },
      "source": [
        "<a href=\"https://colab.research.google.com/github/marshyn/nc/blob/master/Week_6_Assignment_Intro_to_Lists.ipynb\" target=\"_parent\"><img src=\"https://colab.research.google.com/assets/colab-badge.svg\" alt=\"Open In Colab\"/></a>"
      ]
    },
    {
      "cell_type": "markdown",
      "metadata": {
        "id": "OmbYt8lDcUhp"
      },
      "source": [
        "# WEEK 6 ASSIGNMENT : Introduction to Lists\n",
        "\n",
        "----------------\n",
        "\n",
        "Due to the exam, the assignment this week is a bit shorter than ussual. \n",
        "\n",
        "You are encouraged to create a new blank workbook for your solutions. You should then save your solutions into GitHub.\n",
        "\n",
        "**0)** Create a list that contains \"Hello\" and \"World\". Write a program that prints out this list. \n",
        "\n",
        "**1)** Create a program that starts with an empty list and then uses a while loop to repeatedly ask the user to enter the name of a food. The program should add each food to the list. The program should stop when the user enters \"stop\".\n",
        "\n",
        "Note: There is an example similar to this in the worksheet.\n",
        "\n",
        "**2)** Use the list that you created in Problem 2. Write additional Python instructions that ask the user to enter a food to delete from the list. You should then delete the requested food from the list and print the list.\n",
        "\n",
        "**3)** Use the list that you created in Problem 2. Write a loop that goes through every element of the list checks whether the food is \"olives\" (or \"olive\") and prints out the food name provided that it is not \"olives\". (I despise \"olives\", wouldn't want to print out that stuff!)\n",
        "\n",
        "To test out your program, you may need to re-run the code from Problem 2 to create a list that contains \"olives\" so you can verify that your code for Problem 4 correctly omits \"olives\" when printing the list.  \n"
      ]
    },
    {
      "cell_type": "code",
      "metadata": {
        "id": "VipcYusctwwJ",
        "outputId": "56f76633-78b7-48b5-9625-b164ef5316ff",
        "colab": {
          "base_uri": "https://localhost:8080/",
          "height": 34
        }
      },
      "source": [
        "# question 0\n",
        "# Create a list that contains \"Hello\" and \"World\". Write a program that\n",
        "# prints out this list.\n",
        "\n",
        "greetings = [\"Hello\", \"World\"]\n",
        "\n",
        "print(\"This is question 0. It will print Hello World but as a list: \", greetings)"
      ],
      "execution_count": 2,
      "outputs": [
        {
          "output_type": "stream",
          "text": [
            "This is question 0. It will print Hello World but as a list:  ['Hello', 'World']\n"
          ],
          "name": "stdout"
        }
      ]
    },
    {
      "cell_type": "code",
      "metadata": {
        "id": "l-XvAvT0t1gJ",
        "outputId": "49c4140b-fae0-42ad-bef5-ecf17469f9b1",
        "colab": {
          "base_uri": "https://localhost:8080/",
          "height": 119
        }
      },
      "source": [
        "# question 1\n",
        "# Create a program that starts with an empty list and then uses a while loop to\n",
        "# repeatedly ask the user to enter the name of a food. The program should add\n",
        "# each food to the list. The program should stop when the user enters \"stop\".\n",
        "\n",
        "# note: There is an example similar to this in the worksheet.\n",
        "\n",
        "plate = []\n",
        "foods = input(\"Please give me some food. Type stop when you're finished. \")\n",
        "\n",
        "while not foods == \"stop\": \n",
        "  plate.append(foods)\n",
        "  foods = input(\"Please give me some food. Type stop when you're finished. \")\n",
        "\n",
        "print(\"Here is the food that is on my plate now. Thanks!\", plate)"
      ],
      "execution_count": 5,
      "outputs": [
        {
          "output_type": "stream",
          "text": [
            "Please give me some food. Type stop when you're finished. egg\n",
            "Please give me some food. Type stop when you're finished. another egg\n",
            "Please give me some food. Type stop when you're finished. bread\n",
            "Please give me some food. Type stop when you're finished. pepper\n",
            "Please give me some food. Type stop when you're finished. stop\n",
            "Here is the food that is on my plate now. Thanks! ['egg', 'another egg', 'bread', 'pepper']\n"
          ],
          "name": "stdout"
        }
      ]
    },
    {
      "cell_type": "code",
      "metadata": {
        "id": "NyLPHgf0t1MN",
        "outputId": "f432278e-7eb2-4048-f128-d5ed42f69eb2",
        "colab": {
          "base_uri": "https://localhost:8080/",
          "height": 136
        }
      },
      "source": [
        "# question 2\n",
        "# Use the list that you created in Problem 2. Write additional Python\n",
        "# instructions that ask the user to enter a food to delete from the list.\n",
        "# You should then delete the requested food from the list and print the list.\n",
        "\n",
        "plate = []\n",
        "foods = input(\"Please give me some food. Type stop when you're finished. \")\n",
        "\n",
        "while not foods == \"stop\": \n",
        "  plate.append(foods)\n",
        "  foods = input(\"Please give me some food. Type stop when you're finished. \")\n",
        "\n",
        "\n",
        "please_remove = input(\"Please remove a food now.\")\n",
        "plate.remove(please_remove)\n",
        "print(plate)"
      ],
      "execution_count": 7,
      "outputs": [
        {
          "output_type": "stream",
          "text": [
            "Please give me some food. Type stop when you're finished. eggs\n",
            "Please give me some food. Type stop when you're finished. bread\n",
            "Please give me some food. Type stop when you're finished. one more egg\n",
            "Please give me some food. Type stop when you're finished. pepper\n",
            "Please give me some food. Type stop when you're finished. stop\n",
            "Please remove a food now.eggs\n",
            "['bread', 'one more egg', 'pepper']\n"
          ],
          "name": "stdout"
        }
      ]
    },
    {
      "cell_type": "code",
      "metadata": {
        "id": "aa7Lj83EuAM-",
        "outputId": "357a1abc-289d-4f60-a48e-58270aa86815",
        "colab": {
          "base_uri": "https://localhost:8080/",
          "height": 119
        }
      },
      "source": [
        "# question 3\n",
        "# Use the list that you created in Problem 2. Write a loop that goes\n",
        "# through every element of the list checks whether the food is \"olives\"\n",
        "# (or \"olive\") and prints out the food name provided that it is not \"olives\".\n",
        "# (I despise \"olives\", wouldn't want to print out that stuff!)\n",
        "\n",
        "# To test out your program, you may need to re-run the code from Problem 2 to\n",
        "# create a list that contains \"olives\" so you can verify that your code for\n",
        "# Problem 4 correctly omits \"olives\" when printing the list.\n",
        "\n",
        "plate = []\n",
        "no_want = [\"olive\", \"Olive\", \"OLIVE\", \"olives\", \"Olives\", \"OLIVES\"]\n",
        "\n",
        "foods = input(\"Please give me some food. Type stop when you're finished. \")\n",
        "\n",
        "while not foods == \"stop\": \n",
        "  plate.append(foods)\n",
        "  foods = input(\"Please give me some food. Type stop when you're finished. \")\n",
        "\n",
        "# box holds = 1 item at a time\n",
        "for box in plate:\n",
        "  if not box in no_want:\n",
        "    print(box)\n"
      ],
      "execution_count": 24,
      "outputs": [
        {
          "output_type": "stream",
          "text": [
            "Please give me some food. Type stop when you're finished. eggs\n",
            "Please give me some food. Type stop when you're finished. bread\n",
            "Please give me some food. Type stop when you're finished. olive\n",
            "Please give me some food. Type stop when you're finished. stop\n",
            "eggs\n",
            "bread\n"
          ],
          "name": "stdout"
        }
      ]
    }
  ]
}