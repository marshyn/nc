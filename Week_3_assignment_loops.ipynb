{
  "nbformat": 4,
  "nbformat_minor": 0,
  "metadata": {
    "colab": {
      "name": "Week 3 assignment - loops",
      "provenance": [],
      "authorship_tag": "ABX9TyPFUbW+YSuElfFT037pXSCT",
      "include_colab_link": true
    },
    "kernelspec": {
      "name": "python3",
      "display_name": "Python 3"
    }
  },
  "cells": [
    {
      "cell_type": "markdown",
      "metadata": {
        "id": "view-in-github",
        "colab_type": "text"
      },
      "source": [
        "<a href=\"https://colab.research.google.com/github/marshyn/nc/blob/master/Week_3_assignment_loops.ipynb\" target=\"_parent\"><img src=\"https://colab.research.google.com/assets/colab-badge.svg\" alt=\"Open In Colab\"/></a>"
      ]
    },
    {
      "cell_type": "code",
      "metadata": {
        "id": "X0q4x1zonTUO",
        "colab_type": "code",
        "colab": {
          "base_uri": "https://localhost:8080/",
          "height": 102
        },
        "outputId": "3b8ce66f-5e00-4e66-c196-c9e0a7a998b9"
      },
      "source": [
        "# question 0: Write a loop that prints \"Hello World\" five times\n",
        "\n",
        "counter = 1\n",
        "while counter < 6:\n",
        "  print(\"Hello World\")\n",
        "  counter = counter + 1"
      ],
      "execution_count": null,
      "outputs": [
        {
          "output_type": "stream",
          "text": [
            "Hello World\n",
            "Hello World\n",
            "Hello World\n",
            "Hello World\n",
            "Hello World\n"
          ],
          "name": "stdout"
        }
      ]
    },
    {
      "cell_type": "code",
      "metadata": {
        "id": "lXaB4ovLozZo",
        "colab_type": "code",
        "colab": {
          "base_uri": "https://localhost:8080/",
          "height": 68
        },
        "outputId": "4c5bfc5a-3231-4bbc-d2ee-50870a5589e1"
      },
      "source": [
        "# question 1: Write code that asks the user to enter two numbers,\n",
        "# then print out the smaller of the two numbers.\n",
        "# (You will need an if statement to figure out which is the smallest)\n",
        "\n",
        "userinput1 = int(input(\"Give a number. \"))\n",
        "userinput2 = int(input(\"Give another number. \"))\n",
        "\n",
        "if userinput1 < userinput2:\n",
        "  print(\"The first number you gave is smaller than the second number you gave.\")\n",
        "\n",
        "else:\n",
        "  print(\"The first number you gave is larger than the second number you gave.\")"
      ],
      "execution_count": null,
      "outputs": [
        {
          "output_type": "stream",
          "text": [
            "Give a number. 5\n",
            "Give another number. 100\n",
            "The first number you gave is smaller than the second number you gave.\n"
          ],
          "name": "stdout"
        }
      ]
    },
    {
      "cell_type": "code",
      "metadata": {
        "id": "ynKd6GXLx3mP",
        "colab_type": "code",
        "colab": {
          "base_uri": "https://localhost:8080/",
          "height": 85
        },
        "outputId": "ecdd1f8b-6c2a-4f78-d647-f92f3d79032e"
      },
      "source": [
        "# question 2:\n",
        "# Write code that asks the user to enter three numbers,\n",
        "# then print out the ***second largest*** of the three numbers.\n",
        "# (This will require some cleverness with if statements!)\n",
        "\n",
        "userinput_a = int(input(\"Give a number. \"))\n",
        "userinput_b = int(input(\"Give another number. \"))\n",
        "userinput_c = int(input(\"Give me a last number. \"))\n",
        "\n",
        "\n",
        "if (userinput_a < userinput_b) and (userinput_b < userinput_c):\n",
        "  print(\"The second largest number you gave was\", userinput_b)\n",
        "\n",
        "if (userinput_c < userinput_b) and (userinput_b < userinput_a): \n",
        "  print(\"The second largest number you gave was\", userinput_b)\n",
        "\n",
        "\n",
        "elif (userinput_b < userinput_c) and (userinput_c < userinput_a): \n",
        "  print(\"The second largest number you gave was\", userinput_c)\n",
        "\n",
        "elif (userinput_a < userinput_c) and (userinput_c < userinput_b): \n",
        "  print(\"The second largest number you gave was\", userinput_c)\n",
        "\n",
        "\n",
        "elif (userinput_c < userinput_a) and (userinput_a < userinput_b):\n",
        "  print(\"The second largest number you gave was\", userinput_a)\n",
        "\n",
        "elif (userinput_b < userinput_a) and (userinput_a < userinput_c):\n",
        "  print(\"The second largest number you gave was\", userinput_a)\n"
      ],
      "execution_count": 42,
      "outputs": [
        {
          "output_type": "stream",
          "text": [
            "Give a number. 1\n",
            "Give another number. 3\n",
            "Give me a last number. 2\n",
            "The second largest number you gave was 2\n"
          ],
          "name": "stdout"
        }
      ]
    },
    {
      "cell_type": "code",
      "metadata": {
        "id": "7F5pDEX43aW7",
        "colab_type": "code",
        "colab": {
          "base_uri": "https://localhost:8080/",
          "height": 85
        },
        "outputId": "4b04440c-c8aa-4166-a65c-39e105025aba"
      },
      "source": [
        "# question 3 - write a for loop that looks at the numbers [3, 2, 8, 9, 17, 24] and\n",
        "# counts how many of them are even. \n",
        "# (You will need a variable to keep count of how many even numbers you have seen.\n",
        "# You should increase the variable by one each time the user enters an even number)\n",
        "\n",
        "\n",
        "# what is an even number\n",
        "def is_it_even(number):\n",
        "  if(number % 2 == 0):\n",
        "    return True\n",
        "  else:\n",
        "    return False\n",
        "\n",
        "print(\"We have the numbers 3, 2, 8, 9, 17, and 24.\")\n",
        "even_count = 0\n",
        "for number in [3, 2, 8, 9, 17, 24]:\n",
        "  if is_it_even(number):\n",
        "  # increase even_count by 1\n",
        "    even_count =  even_count + 1\n",
        "    print(number, \"is even; there are now\", even_count, \"numbers in total.\")\n",
        "\n"
      ],
      "execution_count": 7,
      "outputs": [
        {
          "output_type": "stream",
          "text": [
            "We have the numbers 3, 2, 8, 9, 17, and 24.\n",
            "2 is even; there are now 1 numbers in total.\n",
            "8 is even; there are now 2 numbers in total.\n",
            "24 is even; there are now 3 numbers in total.\n"
          ],
          "name": "stdout"
        }
      ]
    },
    {
      "cell_type": "code",
      "metadata": {
        "id": "ACLA1fk_yixN",
        "colab_type": "code",
        "colab": {
          "base_uri": "https://localhost:8080/",
          "height": 119
        },
        "outputId": "6c804210-16d1-46ea-b57c-1c9eb3854b6d"
      },
      "source": [
        "# question 3 - again (?)\n",
        "# write a loop that asks the user to enter five numbers and\n",
        "# prints out how many of the numbers are even.\n",
        "\n",
        "\n",
        "# what is an even number\n",
        "def is_it_even(number):\n",
        "  if(number % 2 == 0):\n",
        "    return True\n",
        "  else:\n",
        "    return False\n",
        "\n",
        "asking = 0\n",
        "even_count = 0\n",
        "for asking in range(5):\n",
        "  userinput = int(input(\"Give me a number. \"))\n",
        "  if is_it_even(number):\n",
        "    even_count =  even_count + 1\n",
        "print(\"There are\", even_count, \"even numbers in total.\")\n",
        "\n",
        "# number counts EVERYTHING as even? same even function used???\n",
        "# ???? :(\n",
        "# this also effected question 4... \n",
        "  \n",
        "  "
      ],
      "execution_count": 37,
      "outputs": [
        {
          "output_type": "stream",
          "text": [
            "Give me a number. 1\n",
            "Give me a number. 2\n",
            "Give me a number. 3\n",
            "Give me a number. 4\n",
            "Give me a number. 5\n",
            "There are 5 even numbers in total.\n"
          ],
          "name": "stdout"
        }
      ]
    },
    {
      "cell_type": "code",
      "metadata": {
        "id": "yHhuVwOG6R0o",
        "colab_type": "code",
        "colab": {
          "base_uri": "https://localhost:8080/",
          "height": 187
        },
        "outputId": "12a5ae9d-80d6-4250-8ed1-89f4dd5886fd"
      },
      "source": [
        "# question 4 - Write a loop that allows the user to keep entering as many numbers as\n",
        "# they want to and then when they are done, print out how many of the numbers were even\n",
        "# One way to do this is to tell the user to enter -1 to signal that they are done,\n",
        "# and then end when you see a -1.\n",
        "\n",
        "# what is an even number\n",
        "def is_it_even(number):\n",
        "  if(number % 2 == 0):\n",
        "    return True\n",
        "  else:\n",
        "    return False\n",
        "\n",
        "even_count = 0\n",
        "while not number == -1:\n",
        "  userinput = int(input(\"Give me a bunch of numbers. Type -1 when you're done. \" ))\n",
        "  if is_it_even(number):\n",
        "    even_count =  even_count + 1\n",
        "    print(\"There are\", even_count, \"even numbers in total.\")\n",
        "  stop = userinput\n",
        "  if stop == -1:\n",
        "    break\n",
        "\n",
        "# mistake: even_count includes odds AND ALSO the input of -1 which tells it to stop..."
      ],
      "execution_count": 48,
      "outputs": [
        {
          "output_type": "stream",
          "text": [
            "Give me a bunch of numbers. Type -1 when you're done. 1\n",
            "There are 1 even numbers in total.\n",
            "Give me a bunch of numbers. Type -1 when you're done. 2\n",
            "There are 2 even numbers in total.\n",
            "Give me a bunch of numbers. Type -1 when you're done. 3\n",
            "There are 3 even numbers in total.\n",
            "Give me a bunch of numbers. Type -1 when you're done. 10\n",
            "There are 4 even numbers in total.\n",
            "Give me a bunch of numbers. Type -1 when you're done. -1\n",
            "There are 5 even numbers in total.\n"
          ],
          "name": "stdout"
        }
      ]
    },
    {
      "cell_type": "code",
      "metadata": {
        "id": "nrQH3uRe3w7S",
        "colab_type": "code",
        "colab": {
          "base_uri": "https://localhost:8080/",
          "height": 221
        },
        "outputId": "1be97633-be79-4b3e-967b-aefe6876758a"
      },
      "source": [
        "# question 5 - Write a number guessing game. You should pick a number\n",
        "# (assign it to a varaible in your code) and then repeatedly ask the user\n",
        "# to guess the number. Tell the user is their guess is too high or too low,\n",
        "# and end when the user correctly guesses your number\n",
        "\n",
        "goal = 23\n",
        "totalguesses = 0\n",
        "for totalguesses in range(100):\n",
        "  guessinput = int(input(\"Guess a number. You get 100 tries. \"))\n",
        "  if guessinput < 23:\n",
        "    print(\"Your guess is too low!\")\n",
        "  elif guessinput > 23:\n",
        "    print(\"Your guess is too high!\")\n",
        "  else:\n",
        "    break\n",
        "if guessinput == goal:\n",
        "  print(\"You guessed correctly! The number was\", goal)\n",
        "  \n"
      ],
      "execution_count": 47,
      "outputs": [
        {
          "output_type": "stream",
          "text": [
            "Guess a number. You get 100 tries. 1\n",
            "Your guess is too low!\n",
            "Guess a number. You get 100 tries. 2\n",
            "Your guess is too low!\n",
            "Guess a number. You get 100 tries. 10\n",
            "Your guess is too low!\n",
            "Guess a number. You get 100 tries. 25\n",
            "Your guess is too high!\n",
            "Guess a number. You get 100 tries. 24\n",
            "Your guess is too high!\n",
            "Guess a number. You get 100 tries. 23\n",
            "You guessed correctly! The number was 23\n"
          ],
          "name": "stdout"
        }
      ]
    },
    {
      "cell_type": "markdown",
      "metadata": {
        "id": "ENDHRoEHsgT-",
        "colab_type": "text"
      },
      "source": [
        "**If you have time this week, you should improve your guessing game.**\n",
        "\n",
        "6) Modify your guessing game so that it counts the number of tries that it takes the user to correclty guess the number. \n",
        "\n",
        "7) It is kind of stupid to have to pick a number and write it in your code. In particular, this means that if you want to play the game more than once, you need to actually go and change the code ... Also, if the user sees your code, they will know exaclty what to guess.\n",
        "\n",
        "A better way is to have Python pick a random number. By default, Python doesn't know how to pick a random number. Fortunately, someone already put together an explanation of how to pick random numbers, we can add this new capability to Python by \"importing\" the instructions that someone else wrote.\n",
        "\n",
        "I have code down below that shows you how to import the random number instructions and then how to ask Python to pick a random number."
      ]
    },
    {
      "cell_type": "markdown",
      "metadata": {
        "id": "p7R-PaQTsx_y",
        "colab_type": "text"
      },
      "source": [
        "**I don't expect you to get this next one, but it is a nice problem if you are looking to challenge yourself.**\n",
        "\n",
        "8) You could modify your guessing game to say \"getting closer\" or \"getting further away\" (i.e., \"warmer\" or \"colder\") instead of \"Too High\" or \"Too Low\"\n",
        "\n",
        "In order to do this you would need to remember how far away the last guess was (in a new variable). You can then compare how far away the new guess is with how far away the old guess was ... This will allow you to tell the user whether they are getting closer to the correct number, or if they are getting further away."
      ]
    }
  ]
}