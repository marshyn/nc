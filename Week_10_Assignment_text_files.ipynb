{
  "nbformat": 4,
  "nbformat_minor": 0,
  "metadata": {
    "colab": {
      "name": "Week 10 Assignment - text files",
      "provenance": [],
      "include_colab_link": true
    },
    "kernelspec": {
      "name": "python3",
      "display_name": "Python 3"
    }
  },
  "cells": [
    {
      "cell_type": "markdown",
      "metadata": {
        "id": "view-in-github",
        "colab_type": "text"
      },
      "source": [
        "<a href=\"https://colab.research.google.com/github/marshyn/nc/blob/master/Week_10_Assignment_text_files.ipynb\" target=\"_parent\"><img src=\"https://colab.research.google.com/assets/colab-badge.svg\" alt=\"Open In Colab\"/></a>"
      ]
    },
    {
      "cell_type": "markdown",
      "metadata": {
        "id": "3s6mU2pbouTC"
      },
      "source": [
        "**FUN WITH TEXT FILES**\n",
        "\n",
        "In the worksheet this week, we had a bunch of examples of working with text in an external file. In the assignment, we will build on the examples in the Worksheet. \n",
        "\n",
        "You can find the worksheet here: https://github.com/mlepinski/Python-Worksheets/blob/master/Week_10_Worksheet.ipynb\n",
        "\n",
        "1) Write a function, **count_lines** that takes in a file name as input to the function. (That is, as a parameter to the function, you don't want someone to have to type a URL at the keyboard). You function should loop through the lines in the file and count how many lines there are. \n",
        "\n",
        "If you write your function correctly, the following test code should work:"
      ]
    },
    {
      "cell_type": "code",
      "metadata": {
        "id": "wgFW16cf7SYY",
        "colab": {
          "base_uri": "https://localhost:8080/"
        },
        "outputId": "c0b6eb0e-54e8-4703-9305-eabf772a2178"
      },
      "source": [
        "import urllib.request\n",
        "\n",
        "def count_lines(file_name):\n",
        "\n",
        "  line_count = 0\n",
        "\n",
        "  my_file = urllib.request.urlopen(file_name)\n",
        "  for line in my_file:\n",
        "    line = line.decode(\"utf-8\")\n",
        "    if line in my_file:\n",
        "      line_count = line_count + 1\n",
        "      return\n",
        "\n",
        "\n",
        "# test code below\n",
        "\n",
        "file_name1 = \"https://raw.githubusercontent.com/mlepinski/Python-Worksheets/master/Sonnets.txt\"\n",
        "answer1 = count_lines(file_name1)\n",
        "\n",
        "file_name2 = file_name = \"https://raw.githubusercontent.com/mlepinski/Python-Worksheets/master/coolWords.txt\"\n",
        "answer2 = count_lines(file_name2)\n",
        "\n",
        "print(\"First file number of lines:\" , answer1)\n",
        "print(\"Second file number of lines:\" , answer2)\n",
        "  "
      ],
      "execution_count": 11,
      "outputs": [
        {
          "output_type": "stream",
          "text": [
            "First file number of lines: None\n",
            "Second file number of lines: None\n"
          ],
          "name": "stdout"
        }
      ]
    },
    {
      "cell_type": "code",
      "metadata": {
        "id": "XB2Sfz41osfq"
      },
      "source": [
        "file_name1 = \"https://raw.githubusercontent.com/mlepinski/Python-Worksheets/master/Sonnets.txt\"\n",
        "answer1 = count_lines(file_name1)\n",
        "\n",
        "file_name2 = file_name = \"https://raw.githubusercontent.com/mlepinski/Python-Worksheets/master/coolWords.txt\"\n",
        "answer2 = count_lines(file_name2)\n",
        "\n",
        "print(\"First file number of lines:\" , answer1)\n",
        "print(\"Second file number of lines:\" , answer2)"
      ],
      "execution_count": null,
      "outputs": []
    },
    {
      "cell_type": "markdown",
      "metadata": {
        "id": "-UbHZq45q1gy"
      },
      "source": [
        "2) Write a function, **lines_with_word** that takes two as input both a file name and a word and counts how many lines in the file contain the word. \n",
        "\n",
        "Note: If the word is \"war\" it is perfectly fine (as in the Worksheet) to count lines with \"warm\" or \"warning\" as long as the letters \"war\" are somewhere on the line.\n",
        "\n",
        "Here is some test code: \n"
      ]
    },
    {
      "cell_type": "code",
      "metadata": {
        "id": "X79ol8OKFMeF"
      },
      "source": [
        "def lines_with_word(file_name, answer):\n",
        "  \n"
      ],
      "execution_count": null,
      "outputs": []
    },
    {
      "cell_type": "code",
      "metadata": {
        "id": "FMDKgKu1rR3w"
      },
      "source": [
        "file_name = \"https://raw.githubusercontent.com/mlepinski/Python-Worksheets/master/Sonnets.txt\"\n",
        "answer1 = lines_with_word(file_name, \"monuments\")\n",
        "\n",
        "print(\"monuments appears in \", answer1, \"lines\")\n",
        "\n",
        "answer2 = lines_with_word(file_name, \"war\")\n",
        "\n",
        "print(\"war appears in \", answer1, \"lines\")"
      ],
      "execution_count": null,
      "outputs": []
    },
    {
      "cell_type": "markdown",
      "metadata": {
        "id": "zeI-gGmMrh5c"
      },
      "source": [
        "3) Modify your previous function **lines_with_word** so that it converts the entire line to lowercase before looking for the given word. (This way, if the word is \"shall\" and the line contains \"Shall\", it will still get counted.)\n",
        "\n",
        "Note: Your new function and your old function should give different answers with the input \"shall\" because sometimes \"shall\" is capitolized (\"Shall\") in the file. "
      ]
    },
    {
      "cell_type": "code",
      "metadata": {
        "id": "jVIXoBdC2jaT"
      },
      "source": [
        ""
      ],
      "execution_count": null,
      "outputs": []
    },
    {
      "cell_type": "markdown",
      "metadata": {
        "id": "1Mor-eu6sHo-"
      },
      "source": [
        "4) Write a function **word_count** that takes as input a file name and a word and returns how many times the word appears in the file. \n",
        "\n",
        "Your function is counting occurances of the word and not lines. Also, for this problem please match the word exactly (so if you are looking for \"war\", don't count \"warm\" or \"warning\"). \n",
        "\n",
        "Also, as in question 3, your function should match regardless of whether the word in the file is upper case or lower case.\n",
        "\n",
        "Here is some example code."
      ]
    },
    {
      "cell_type": "code",
      "metadata": {
        "id": "tsI_CdER00Fj"
      },
      "source": [
        "# question 4 import urllib.request\n",
        "\n",
        "def word_count(file_name, input_word):\n",
        "  my_file = urllib.request.urlopen(file_name)\n",
        "\n",
        "  long_string = my_file.read()\n",
        "  long_string = long_string.decode(\"utf-8\")\n",
        "\n",
        "  no_line_breaks = long_string.replace(\"\\n\", \" \")\n",
        "  list_of_words = no_line_breaks.split()\n",
        "\n",
        "  word_count = 0 \n",
        "\n",
        "  for word in list_of_words:\n",
        "    if word == input_word:\n",
        "      word_count = word_count + 1\n",
        "\n",
        "  print(\"The word\", word, \"appears\", word_count, \"times in the file\")"
      ],
      "execution_count": 22,
      "outputs": []
    },
    {
      "cell_type": "code",
      "metadata": {
        "id": "Gx42q67ysHF0",
        "colab": {
          "base_uri": "https://localhost:8080/"
        },
        "outputId": "69cff718-ea90-458e-d239-a6f0a76be5bf"
      },
      "source": [
        "# question 4 import urllib.request\n",
        "\n",
        "def word_count(file_name, input_word):\n",
        "  my_file = urllib.request.urlopen(file_name)\n",
        "\n",
        "  long_string = my_file.read()\n",
        "  long_string = long_string.decode(\"utf-8\")\n",
        "\n",
        "  no_line_breaks = long_string.replace(\"\\n\", \" \")\n",
        "  list_of_words = no_line_breaks.split()\n",
        "\n",
        "  word_count = 0 \n",
        "\n",
        "  for word in list_of_words:\n",
        "    if word == input_word:\n",
        "      word_count = word_count + 1\n",
        "\n",
        "  print(\"The word\", input_word, \"appears\", word_count, \"times in the file\")\n",
        "\n",
        "# test code\n",
        "file_name = \"https://raw.githubusercontent.com/mlepinski/Python-Worksheets/master/Sonnets.txt\"\n",
        "answer1 = word_count(file_name, \"monuments\")\n",
        "\n",
        "print(\"monuments appears \", answer1, \"times\")\n",
        "\n",
        "answer2 = word_count(file_name, \"war\")\n",
        "\n",
        "print(\"war appears times\", answer2, \"times\")"
      ],
      "execution_count": 26,
      "outputs": [
        {
          "output_type": "stream",
          "text": [
            "The word monuments appears 1 times in the file\n",
            "monuments appears  None times\n",
            "The word war appears 6 times in the file\n",
            "war appears times None times\n"
          ],
          "name": "stdout"
        }
      ]
    },
    {
      "cell_type": "markdown",
      "metadata": {
        "id": "h1g7_zq0sjCN"
      },
      "source": [
        "5) It is probably the case that your function in number 4 doesn't handle punctuation very well. \n",
        "\n",
        "If you are looking for \"warm\" and you find \"warm,\" you ideally want \"warm,\" to be counted even though there is a comma present. \n",
        "\n",
        "Modify your **word_count** function so that you remove punctuation like commas, periods, and semi-colons from the file before you go and count the words. \n",
        "\n",
        "If you do this correctly, your new function should give you different answers for words like \"memory\" and \"fuel\" which appear in the file attached to puncuation marks. "
      ]
    },
    {
      "cell_type": "code",
      "metadata": {
        "colab": {
          "base_uri": "https://localhost:8080/"
        },
        "id": "PxxzTMmm2mS7",
        "outputId": "03ba01a3-7015-48b0-a8c2-aaa19e86a30b"
      },
      "source": [
        "# question 5\n",
        "def word_count(file_name, input_word):\n",
        "  my_file = urllib.request.urlopen(file_name)\n",
        "\n",
        "  long_string = my_file.read()\n",
        "  long_string = long_string.decode(\"utf-8\")\n",
        "\n",
        "  no_line_breaks = long_string.replace(\"\\n\", \" \")\n",
        "  no_comma = long_string.replace(\",\", \" \")\n",
        "  no_period = long_string.replace(\".\", \" \")\n",
        "  no_semi = long_string.replace(\";\", \" \")\n",
        "  no_colon = long_string.replace(\":\", \" \")\n",
        "  no_exl = long_string.replace(\"!\", \" \")\n",
        "  no_q = long_string.replace(\"?\", \" \")\n",
        "  list_of_words = no_line_breaks.split()\n",
        "\n",
        "  word_count = 0 \n",
        "\n",
        "  for word in list_of_words:\n",
        "    if word == input_word:\n",
        "      word_count = word_count + 1\n",
        "\n",
        "  print(\"The word\", input_word, \"appears\", word_count, \"times in the file\")\n",
        "\n",
        "file_name = \"https://raw.githubusercontent.com/mlepinski/Python-Worksheets/master/Sonnets.txt\"\n",
        "answer1 = word_count(file_name, \"memory\")\n",
        "\n",
        "print(\"memory appears \", answer1, \"times\")\n",
        "\n",
        "answer2 = word_count(file_name, \"fuel\")\n",
        "\n",
        "print(\"fuel appears \", answer2, \"times\")\n",
        "\n"
      ],
      "execution_count": 27,
      "outputs": [
        {
          "output_type": "stream",
          "text": [
            "The word memory appears 3 times in the file\n",
            "memory appears  None times\n",
            "The word fuel appears 0 times in the file\n",
            "fuel appears  None times\n"
          ],
          "name": "stdout"
        }
      ]
    },
    {
      "cell_type": "markdown",
      "metadata": {
        "id": "Hexbcc9qsxB8"
      },
      "source": [
        "6) Write a function **word_frequency** that takes in a file name and a file_name and a word as input to the function and returns what percentage of the words in the file match a particular word. \n",
        "\n",
        "That is, you should count the total number of words and divide your word count by the total to get a percentage frequency. This will tell you how often the word appears and could allow you to compare frequencies across files with different lengths. \n",
        "\n",
        "Note: An excellent way to do this is to have your **word_frequency** function make a call to your **word_count** function from the previous problem. \n",
        "\n",
        "You don't have to do this, but now that you have a **word_frequency** function it would be fun to grab another text file from somewhere (it could be something that you have written or something from project Guttenberg) and stick it in your Github. Then use your **word_frequency** function to see if there are certain words (e.g. \"thee\" or maybe even \"shall\") that are used more often by Shakespeare in his sonnets than in the other text file that you found."
      ]
    },
    {
      "cell_type": "code",
      "metadata": {
        "id": "aKYHr3XF2zR4"
      },
      "source": [
        "def word_frequency(file_name, input_word):\n",
        "  # total words / overall word count\n",
        "  percent_words =\n",
        "  # maybe function to count the total words and then just call it ?\n",
        "  total_words =\n",
        "  word_count = word_count(input_word)\n",
        "  return percent_words"
      ],
      "execution_count": null,
      "outputs": []
    }
  ]
}