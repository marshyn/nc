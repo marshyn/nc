{
  "nbformat": 4,
  "nbformat_minor": 0,
  "metadata": {
    "colab": {
      "name": "Week 5 assignment - Days of the Week",
      "provenance": [],
      "include_colab_link": true
    },
    "kernelspec": {
      "name": "python3",
      "display_name": "Python 3"
    }
  },
  "cells": [
    {
      "cell_type": "markdown",
      "metadata": {
        "id": "view-in-github",
        "colab_type": "text"
      },
      "source": [
        "<a href=\"https://colab.research.google.com/github/marshyn/nc/blob/master/Week_5_assignment_Days_of_the_Week.ipynb\" target=\"_parent\"><img src=\"https://colab.research.google.com/assets/colab-badge.svg\" alt=\"Open In Colab\"/></a>"
      ]
    },
    {
      "cell_type": "markdown",
      "metadata": {
        "id": "o2JQvFkIT-sn",
        "colab_type": "text"
      },
      "source": [
        "\n",
        "# WEEK 5 ASSIGNMENT : Days of the Week\n",
        "\n",
        "----------------\n",
        "\n",
        "In this assignment, I am going to ask you to do something fairly large and complex. In particular, I want you to write Python code that takes in a day of the year (like June 3rd) and figure out what day of the week that falls on. \n",
        "\n",
        "I am going to take you step-by-step through my problem solving approach for this type of problem you can see how computer scientists approach larger problems in small pieces. \n",
        "\n",
        "Note: I realize that this assignment has quite a bit of typing involved. There are ways to reduce the amount of typing, but they require concepts that we haven't covered yet.\n",
        "\n",
        "---------\n",
        "\n",
        "**1)** New year's Day in 2020 was on a Wednesday. So we are going to call Wednesday the first day of the week, Thursday the second day of the week, Friday the third day of the week, and so on. \n",
        "\n",
        "Write a Python function called **day_of_the_week** that takes in a number (between one and seven) and returns a string containing the name of the day. \n",
        "\n",
        "So **day_of_the_week(1)** should return \"Wednesday\" and **day_of_the_week(3)** should return Friday. \n",
        "\n",
        "If you have done this correctly, then the following code should print \"Tuesday\" and then \"Sunday\"."
      ]
    },
    {
      "cell_type": "code",
      "metadata": {
        "id": "oCpMsMP9KS_V",
        "colab_type": "code",
        "colab": {
          "base_uri": "https://localhost:8080/",
          "height": 51
        },
        "outputId": "f885ee2f-88b2-431b-ffc0-1d519c50049e"
      },
      "source": [
        "def day_of_the_week(x):\n",
        "  if x == 1:\n",
        "    return \"Wednesday\"\n",
        "  if x == 2:\n",
        "    return \"Thursday\"\n",
        "  if x == 3:\n",
        "    return \"Friday\"\n",
        "  if x == 4:\n",
        "    return \"Saturday\"\n",
        "  if x == 5:\n",
        "    return \"Sunday\"\n",
        "  if x == 6:\n",
        "    return \"Monday\"\n",
        "  if x == 7:\n",
        "    return \"Tuesday\"\n",
        "\n",
        "\n",
        "#This should print \"Tuesday\"\n",
        "print(\"The 7th day of the week is\", day_of_the_week(7))\n",
        "\n",
        "#This should print \"Sunday\"\n",
        "print(\"The 5th day of the week is\", day_of_the_week(5))"
      ],
      "execution_count": 1,
      "outputs": [
        {
          "output_type": "stream",
          "text": [
            "The 7th day of the week is Tuesday\n",
            "The 5th day of the week is Sunday\n"
          ],
          "name": "stdout"
        }
      ]
    },
    {
      "cell_type": "markdown",
      "metadata": {
        "id": "9ggyt4xHKn1i",
        "colab_type": "text"
      },
      "source": [
        "**2)** Okay, let's start by looking at the days of January. \n",
        "\n",
        "Write a function, **january_day** that takes in a number let's call it **day_number** and returns the day of the week that day falls on in January 2020. \n",
        "\n",
        "So **january_day(1)** returns \"Wednesday\" and **january_day(31)** returns Friday. Note: For now, don't worry about what your function does if it gets an input larger than 31. \n",
        "\n",
        "A good approach for writing this function is the following. First observe that subtracting 7 from the day doesn't change the answer. That is, the 17th of January, the 10th of January and the 3rd all fall on the same day of the week.\n",
        "\n",
        "Therefore, you can take your input, repeatedly substract 7 until you get down to a number between one and seven. Then use **day_of_the_week** (which you already wrote) to transform the number between one and seven into a day of the week. \n",
        "\n",
        "Computer Scientists love transforming a problem into something that has already been solved! So first your write **day_of_the_week** that handles numbers between one and seven and then you write **january_day** that makes use of **day_of_the_week** to handle numbers between one and thirty-one.\n",
        "\n",
        "Here is a small amount of code for testing to see if **january_day** is working properly:"
      ]
    },
    {
      "cell_type": "code",
      "metadata": {
        "id": "NPxl0U8PNceh",
        "colab_type": "code",
        "colab": {
          "base_uri": "https://localhost:8080/",
          "height": 68
        },
        "outputId": "99041c3d-19b5-4fce-9ebb-b5968b35a504"
      },
      "source": [
        "def january_day(day_number):\n",
        "  while day_number > 7:\n",
        "    day_number = day_number - 7\n",
        "  return day_of_the_week(day_number)\n",
        "\n",
        "#This should print \"Wednesday\"\n",
        "print(\"The 1st Day of January is\", january_day(1))\n",
        "\n",
        "#This should print \"Thursday\"\n",
        "print(\"The 30th day in January is\", january_day(30))\n",
        "\n",
        "#This should print \"Saturday\"\n",
        "print(\"The 19th day in January is\", january_day(19))\n",
        "\n",
        "# hello I checked to see what might have caused January 19th to show up as Sunday\n",
        "# but Jan 19, 2020 was actually on a Sunday it seems"
      ],
      "execution_count": 7,
      "outputs": [
        {
          "output_type": "stream",
          "text": [
            "The 1st Day of January is Wednesday\n",
            "The 30th day in January is Thursday\n",
            "The 19th day in January is Sunday\n"
          ],
          "name": "stdout"
        }
      ]
    },
    {
      "cell_type": "markdown",
      "metadata": {
        "id": "Zbgpn3MFOKaU",
        "colab_type": "text"
      },
      "source": [
        "**3)** So the approach that you used in january_day can actually work perfectly well for numbers bigger than 31. If I ask you \"What is the day of the week for the 271st day of 2020?\" the approach that you used to write january_day should work to find the day of the week for the 271st day of 2020. \n",
        "\n",
        "Write a new function  **number_to_day** that takes in a number (lets call it **X**) and returns the day of the week for the number **X** day of 2020. \n",
        "\n",
        "So **number_to_day(1)** should return \"Wednesday\" because the first day of the year was a Wednesday, and **number_to_day(60)** should return \"Saturday\" because the 60th day of the year (February 29th) was on a Saturday. "
      ]
    },
    {
      "cell_type": "code",
      "metadata": {
        "id": "9DQgXkloQjJs",
        "colab_type": "code",
        "colab": {
          "base_uri": "https://localhost:8080/",
          "height": 68
        },
        "outputId": "e0fe19aa-090b-46c8-a443-e1ed82a8b30a"
      },
      "source": [
        "def number_to_day(x):\n",
        "  while x > 7:\n",
        "    x = x - 7\n",
        "  return day_of_the_week(x)\n",
        "\n",
        "#This should print \"Wednesday\"\n",
        "print(\"The 1st Day of 2020 is\", number_to_day(1))\n",
        "\n",
        "#This should print \"Saturday\"\n",
        "print(\"The 19th day in 2020 is\", number_to_day(19))\n",
        "\n",
        "#This should print \"Thursday\"\n",
        "print(\"The 100th day in 2020 is\", number_to_day(100))\n",
        "\n",
        "\n",
        "# again, the 19th day of 2020 is Jan 19, 2020\n",
        "# which is actually a Sunday when looking at a 2020 calendar"
      ],
      "execution_count": 9,
      "outputs": [
        {
          "output_type": "stream",
          "text": [
            "The 1st Day of 2020 is Wednesday\n",
            "The 19th day in 2020 is Sunday\n",
            "The 100th day in 2020 is Thursday\n"
          ],
          "name": "stdout"
        }
      ]
    },
    {
      "cell_type": "markdown",
      "metadata": {
        "id": "-D3v4KPkRFQl",
        "colab_type": "text"
      },
      "source": [
        "**4)** So our ultimate goal is to figure out the day of the week given the month and the day (e.g., \"Feburary\" and 29). If we can figure out the number that corresponds to a day like April 9th or February 29th then we just use **number_to_day** and we are done. \n",
        "\n",
        "So the key challenge that is left is figuring out the number for a particular month day combination. That is, how do we figure out that February 29th is the 60th day of the year and April 9th is the 100th day of the year. \n",
        "\n",
        "This is a bit messy, so let's start with just January and February. Also, I think this will be a bit easier if we use Month numbers, instead of month names.\n",
        "\n",
        "Write a function **month_day_to_number** that takes in two integers (let's call them **month_num** and **day_num**) representing a month/day cominbation in 2020 and returns the answer to the question: \"How many days into 2020 is this month/day combination?\"\n",
        "\n",
        "So **month_day_to_number(1, 1)** returns 1 ... because (1,1) corresponds to January 1st which is the 1st day of 2020.\n",
        "\n",
        "**month_day_to_number(1, 30)** returns 30 ... because (1, 30) correponds to January 30th which is the 30th day of 2020. \n",
        "\n",
        "**month_day_to_number(2, 29)** returns 60 ... because (2, 29) corresponds to February 29th which is the 60th day of 2020. \n",
        "\n",
        "Writing the whole function is going to be tricky, so let's just start with January and February -- Months 1 and 2.\n",
        "\n",
        "If the month is 1 (which means January) then your answer is just the day number in January. If the month is greater than 1 (beyond January) than you want to add 31 to your answer ... January has thirty-one days so you add 31 to the day_num for days beyond January. "
      ]
    },
    {
      "cell_type": "code",
      "metadata": {
        "id": "iFa7A7IWTwqP",
        "colab_type": "code",
        "colab": {
          "base_uri": "https://localhost:8080/",
          "height": 68
        },
        "outputId": "03afea62-1377-4593-8d7f-a3aa240dd134"
      },
      "source": [
        "def month_day_to_number(month_num, day_num):\n",
        "\n",
        "  if month_num == 1:\n",
        "    month_num = 0 + day_num\n",
        "    return month_num\n",
        "\n",
        "  if month_num == 2:\n",
        "    month_num = 31 + day_num\n",
        "    return month_num\n",
        "\n",
        "#This should print 1\n",
        "print(\"January 1st is the number\", month_day_to_number(1,1), \"day of 2020\")\n",
        "\n",
        "#This should print 30\n",
        "print(\"January 30th is the number\", month_day_to_number(1,30), \"day of 2020\")\n",
        "\n",
        "#This should print 60\n",
        "print(\"February 29th is the number\", month_day_to_number(2,29), \"day of 2020\")"
      ],
      "execution_count": 19,
      "outputs": [
        {
          "output_type": "stream",
          "text": [
            "January 1st is the number 1 day of 2020\n",
            "January 30th is the number 30 day of 2020\n",
            "February 29th is the number 60 day of 2020\n"
          ],
          "name": "stdout"
        }
      ]
    },
    {
      "cell_type": "markdown",
      "metadata": {
        "id": "OXTLBRwFUJnp",
        "colab_type": "text"
      },
      "source": [
        "**4)** Okay, now let's make **month_day_to_number** work beyond February.\n",
        "\n",
        "My advice is to make a sequence of if statements. If the **month_num** is greater than 1, then add 31 days for January.\n",
        "\n",
        "If the **month_num** is greater than 2, then add 29 days for February. (If the number is greater than 2, than it is also greater than 1 and so your previous if statement should have already added in the 31 days for January into your answer) \n",
        "\n",
        "If the **month_num** is greater than 3, then add 30 days for March ... and so forth. \n",
        "\n",
        "This is going to require about 12 if statements. I would recommend that you add an if statement and then test, then add an if statement and test. Testing frequently is really helpful to make sure that things are working the way you want them to. Here are some test statements that might help. \n",
        "\n",
        "Also, this website might be helpful for testing: https://www.epochconverter.com/days/2020"
      ]
    },
    {
      "cell_type": "code",
      "metadata": {
        "id": "mmQfpFGMz3Q-",
        "colab_type": "code",
        "colab": {
          "base_uri": "https://localhost:8080/",
          "height": 221
        },
        "outputId": "eece67d3-3000-4d0c-8680-f57543ffed5c"
      },
      "source": [
        "def month_day_to_number(month_num, day_num):\n",
        "\n",
        "# 01 January\n",
        "  if month_num == 1:\n",
        "    month_num = 0 + day_num\n",
        "    return month_num\n",
        "\n",
        "# 02 February - add 31 days prev from JAN\n",
        "  if month_num == 2:\n",
        "    month_num = 31 + day_num\n",
        "    return month_num\n",
        "\n",
        "# 03 March - add 31 (JAN) and 29 (FEB)\n",
        "  if month_num == 3:\n",
        "    month_num = 31 + 29 + day_num\n",
        "    return month_num\n",
        "\n",
        "# 04 April - add 31 (JAN) and 29 (FEB) and 31 (MAR)\n",
        "  if month_num == 4:\n",
        "    month_num = 31 + 29 + 31 + day_num\n",
        "    return month_num\n",
        "\n",
        "# 05 May - 31 (JAN); 29 (FEB); 31 (MAR); 30 (APR)\n",
        "  if month_num == 5:\n",
        "    month_num = 31 + 29 + 31 + 30 + day_num\n",
        "    return month_num\n",
        "\n",
        "# 06 June - 31 (JAN); 29 (FEB); 31 (MAR); 30 (APR); 31 (MAY)\n",
        "  if month_num == 6:\n",
        "    month_num = 31 + 29 + 31 + 30 + 31 + day_num\n",
        "    return month_num\n",
        "\n",
        "# 07 July - 31 (JAN); 29 (FEB); 31 (MAR); 30 (APR); 31 (MAY); 30 (JUN)\n",
        "  if month_num == 7:\n",
        "    month_num = 31 + 29 + 31 + 30 + 31 + 30 + day_num\n",
        "    return month_num\n",
        "\n",
        "# 08 August - 31 (JAN); 29 (FEB); 31 (MAR); 30 (APR); 31 (MAY); 30 (JUN); 31 (JUL)\n",
        "  if month_num == 8:\n",
        "    month_num = 31 + 29 + 31 + 30 + 31 + 30 + 31 + day_num\n",
        "    return month_num\n",
        "\n",
        "# 09 September - 31 (JAN); 29 (FEB); 31 (MAR); 30 (APR); 31 (MAY); 30 (JUN); 31 (JUL);\n",
        "# 31 (AUG);\n",
        "  if month_num == 9:\n",
        "    month_num = 31 + 29 + 31 + 30 + 31 + 30 + 31 + 31 + day_num\n",
        "    return month_num\n",
        "\n",
        "# 10 October - 31 (JAN); 29 (FEB); 31 (MAR); 30 (APR); 31 (MAY); 30 (JUN); 31 (JUL);\n",
        "# 31 (AUG); 30 (SEP)\n",
        "  if month_num == 10:\n",
        "    month_num = 31 + 29 + 31 + 30 + 31 + 30 + 31 + 31 + 30 + day_num\n",
        "    return month_num\n",
        "\n",
        "# 11 November - 31 (JAN); 29 (FEB); 31 (MAR); 30 (APR); 31 (MAY); 30 (JUN); 31 (JUL);\n",
        "# 31 (AUG); 30 (SEP); 31 (OCT)\n",
        "  if month_num == 11:\n",
        "    month_num = 31 + 29 + 31 + 30 + 31 + 30 + 31 + 31 + 30 + 31 + day_num\n",
        "    return month_num\n",
        "\n",
        "# 12 December - 31 (JAN); 29 (FEB); 31 (MAR); 30 (APR); 31 (MAY); 30 (JUN); 31 (JUL);\n",
        "# 31 (AUG); 30 (SEP); 31 (OCT); 30 (NOV)\n",
        "  if month_num == 12:\n",
        "    month_num = 31 + 29 + 31 + 30 + 31 + 30 + 31 + 31 + 30 + 31 + 30 + day_num\n",
        "    return month_num\n",
        "\n",
        "\n",
        "### testing here!!!! ###\n",
        "\n",
        "# should say 25\n",
        "print(\"January 25th is the number\", month_day_to_number(1,25), \"day of 2020\")\n",
        "\n",
        "# 43\n",
        "print(\"February 12th is the number\", month_day_to_number(2,12), \"day of 2020\")\n",
        "\n",
        "# 82\n",
        "print(\"March 22nd is the number\", month_day_to_number(3,22), \"day of 2020\")\n",
        "# that's my birthday :)\n",
        "\n",
        "# 105\n",
        "print(\"April 14th is the number\", month_day_to_number(4,14), \"day of 2020\")\n",
        "\n",
        "# 152\n",
        "print(\"May 31st is the number\", month_day_to_number(4,14), \"day of 2020\")\n",
        "\n",
        "# 181\n",
        "print(\"June 29th is the number\", month_day_to_number(6,29), \"day of 2020\")\n",
        "\n",
        "# 186\n",
        "print(\"July 4th is the number\", month_day_to_number(7,4), \"day of 2020\")\n",
        "\n",
        "# 237\n",
        "print(\"August 24th is the number\", month_day_to_number(8,24), \"day of 2020\")\n",
        "\n",
        "# 264\n",
        "print(\"September 20th is the number\", month_day_to_number(9,20), \"day of 2020\")\n",
        "\n",
        "# 305\n",
        "print(\"October 31st is the number\", month_day_to_number(10,31), \"day of 2020\")\n",
        "\n",
        "# 320\n",
        "print(\"November 15th is the number\", month_day_to_number(11,15), \"day of 2020\")\n",
        "\n",
        "# 364\n",
        "print(\"December 29th is the number\", month_day_to_number(12,29), \"day of 2020\")"
      ],
      "execution_count": 31,
      "outputs": [
        {
          "output_type": "stream",
          "text": [
            "January 25th is the number 25 day of 2020\n",
            "February 12th is the number 43 day of 2020\n",
            "March 22nd is the number 82 day of 2020\n",
            "April 14th is the number 105 day of 2020\n",
            "May 31st is the number 105 day of 2020\n",
            "June 29th is the number 181 day of 2020\n",
            "July 4th is the number 186 day of 2020\n",
            "August 24th is the number 237 day of 2020\n",
            "September 20th is the number 264 day of 2020\n",
            "October 31st is the number 305 day of 2020\n",
            "November 15th is the number 320 day of 2020\n",
            "December 29th is the number 364 day of 2020\n"
          ],
          "name": "stdout"
        }
      ]
    },
    {
      "cell_type": "markdown",
      "metadata": {
        "id": "nXhUmJ9AVqV8",
        "colab_type": "text"
      },
      "source": [
        "**5)** It would be nice if we could use the name of the month as well. \n",
        "\n",
        "Let's write a function, call it **month_to_num** that converts the name of the month into a month number. \n",
        "\n",
        "So **month_to_num(\"April\")** returns 4 and **month_to_num(\"October\")** returns 10. \n",
        "\n",
        "This will require 12 if statements, but it should be pretty easy to write. \n"
      ]
    },
    {
      "cell_type": "code",
      "metadata": {
        "id": "PfI0FpXoWATq",
        "colab_type": "code",
        "colab": {
          "base_uri": "https://localhost:8080/",
          "height": 51
        },
        "outputId": "8682f358-245e-486d-f86f-d31145a1f7c5"
      },
      "source": [
        "def month_to_num(month_name):\n",
        "\n",
        "  if month_name == \"January\":\n",
        "    return 1\n",
        "\n",
        "  if month_name == \"February\":\n",
        "    return 2\n",
        "\n",
        "  if month_name == \"March\":\n",
        "    return 3\n",
        "\n",
        "  if month_name == \"April\":\n",
        "    return 4\n",
        "\n",
        "  if month_name == \"May\":\n",
        "    return 5\n",
        "  \n",
        "  if month_name == \"June\":\n",
        "    return 6\n",
        "\n",
        "  if month_name == \"July\":\n",
        "    return 7\n",
        "\n",
        "  if month_name == \"August\":\n",
        "    return 8\n",
        "\n",
        "  if month_name == \"September\":\n",
        "    return 9\n",
        "\n",
        "  if month_name == \"October\":\n",
        "    return 10\n",
        "\n",
        "  if month_name == \"November\":\n",
        "    return 11\n",
        "\n",
        "  if month_name == \"December\":\n",
        "    return 12\n",
        "\n",
        "#This should print 3\n",
        "print(\"March is the number\", month_to_num(\"March\"), \"month of the year\")\n",
        "\n",
        "#This should print 11\n",
        "print(\"November is the number\", month_to_num(\"November\"), \"month of the year\")"
      ],
      "execution_count": 39,
      "outputs": [
        {
          "output_type": "stream",
          "text": [
            "March is the number 3 month of the year\n",
            "November is the number 11 month of the year\n"
          ],
          "name": "stdout"
        }
      ]
    },
    {
      "cell_type": "markdown",
      "metadata": {
        "id": "sPqURx5NWgG4",
        "colab_type": "text"
      },
      "source": [
        "**6)** Okay, let's put all the pieces together. \n",
        "\n",
        "Write a function called, **what_day_of_the_week** that takes in two inputs, a month and a day and returns the day of the week for that date. \n",
        "\n",
        "**what_day_of_the_week(\"April\", 27)** should return Monday and **what_day_of_the_week(\"November\", 13)** should return Friday.\n",
        "\n",
        "To make this function, you should use what you have already done to convert the month name into a number, then use **month_day_to_number** to figure out how many days have passed since the beginning of the year, then use **number_to_day** to figure out the day of the week. "
      ]
    },
    {
      "cell_type": "code",
      "metadata": {
        "id": "ayWzKGqUXc9N",
        "colab_type": "code",
        "colab": {}
      },
      "source": [
        "def what_day_of_the_week(month_name, month_num):\n",
        "  monday_day_to_number\n",
        "  \n",
        "  number_to_day\n",
        "\n",
        "\n",
        "#This should print \"Monday\"\n",
        "print(\"September 21st, 2020 is a\", what_day_of_the_week(\"September\", 21))\n",
        "\n",
        "#This should print \"Saturday\"\n",
        "print(\"October 31st, 2020 is a\", what_day_of_the_week(\"October\", 31))\n",
        "\n",
        "#This should print \"Thursday\"\n",
        "print(\"November 26th, 2020 is a\", what_day_of_the_week(\"November\", 26)"
      ],
      "execution_count": null,
      "outputs": []
    },
    {
      "cell_type": "markdown",
      "metadata": {
        "id": "iO-c9DvAX7BZ",
        "colab_type": "text"
      },
      "source": [
        "Congratulations! If you have made it this far, you can figure out what \n",
        "\n",
        "--------\n",
        "\n",
        "--------\n",
        "\n",
        "I don't expect you to go any further, but if you have additional time, could you figure out the days of the week for 2021? \n",
        "\n",
        "Can you write a function that takes in three inputs \"October\", 31, 2021 and returns the day of the week for October, 31 in 2021.\n",
        "\n",
        "It would be challenging to make this work for absolutely any year, but could you make it work for say years between 2021 and 2025?"
      ]
    }
  ]
}